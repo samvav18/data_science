{
 "cells": [
  {
   "cell_type": "markdown",
   "id": "09ce5ec8-a5e9-4f19-afc0-be169a6d51ce",
   "metadata": {},
   "source": [
    "Single dimension NumPy Array"
   ]
  },
  {
   "cell_type": "code",
   "execution_count": 1,
   "id": "7a01ffc9-85a8-4f86-8639-afc1c3b694f7",
   "metadata": {},
   "outputs": [
    {
     "name": "stdout",
     "output_type": "stream",
     "text": [
      "Requirement already satisfied: numpy in d:\\anaconda\\lib\\site-packages (1.26.4)\n"
     ]
    }
   ],
   "source": [
    "!pip install numpy"
   ]
  },
  {
   "cell_type": "code",
   "execution_count": 1,
   "id": "1133c3c4-55ce-40ea-a4a2-df8fff520953",
   "metadata": {},
   "outputs": [],
   "source": [
    "import numpy as np"
   ]
  },
  {
   "cell_type": "code",
   "execution_count": 6,
   "id": "a9d5a85b-4ef4-44dd-80d7-34f1fff21169",
   "metadata": {},
   "outputs": [
    {
     "data": {
      "text/plain": [
       "array([10, 20, 30, 40])"
      ]
     },
     "execution_count": 6,
     "metadata": {},
     "output_type": "execute_result"
    }
   ],
   "source": [
    "n1=np.array([10,20,30,40])\n",
    "n1"
   ]
  },
  {
   "cell_type": "code",
   "execution_count": 7,
   "id": "4e208de3-358e-49d9-a43b-92e473d3c667",
   "metadata": {},
   "outputs": [
    {
     "data": {
      "text/plain": [
       "numpy.ndarray"
      ]
     },
     "execution_count": 7,
     "metadata": {},
     "output_type": "execute_result"
    }
   ],
   "source": [
    "type(n1)"
   ]
  },
  {
   "cell_type": "markdown",
   "id": "a599c71e-0351-4bd4-84f3-660a7cc68372",
   "metadata": {},
   "source": [
    "# MultiDimension NumPy Array"
   ]
  },
  {
   "cell_type": "code",
   "execution_count": 8,
   "id": "3097e37f-3152-4f57-baa3-0ea53fe7016d",
   "metadata": {},
   "outputs": [],
   "source": [
    "import numpy as np"
   ]
  },
  {
   "cell_type": "code",
   "execution_count": 9,
   "id": "c6141b4e-78c0-4f00-8296-3fbbc9e7f1f0",
   "metadata": {},
   "outputs": [],
   "source": [
    "n2=np.array([[10,20,30],[10,80,90],[30,60,40]])"
   ]
  },
  {
   "cell_type": "code",
   "execution_count": 13,
   "id": "2f932eca-10d7-4c10-972a-3ee83cdbf357",
   "metadata": {},
   "outputs": [
    {
     "name": "stdout",
     "output_type": "stream",
     "text": [
      "[[10 20 30]\n",
      " [10 80 90]\n",
      " [30 60 40]]\n"
     ]
    }
   ],
   "source": [
    "print(n2)"
   ]
  },
  {
   "cell_type": "code",
   "execution_count": 14,
   "id": "60fb47b0-95ec-4193-b6e4-8de3d1741cf8",
   "metadata": {},
   "outputs": [],
   "source": [
    "# Note: we use 2 big brackets [[ for 2 dimensional"
   ]
  },
  {
   "cell_type": "markdown",
   "id": "efbb0f27-e56a-4354-bb1b-157da3747cd7",
   "metadata": {},
   "source": [
    "# initialize NumPy array with Zeroes"
   ]
  },
  {
   "cell_type": "code",
   "execution_count": 15,
   "id": "8ca666fa-cdda-476a-9103-966f573f6187",
   "metadata": {},
   "outputs": [],
   "source": [
    "import numpy as np"
   ]
  },
  {
   "cell_type": "code",
   "execution_count": 27,
   "id": "20da0e3c-4d8d-4749-afec-84af705c73d4",
   "metadata": {},
   "outputs": [],
   "source": [
    "n3=np.zeros((9,9))"
   ]
  },
  {
   "cell_type": "code",
   "execution_count": 28,
   "id": "d0939b3f-4932-4aed-8398-88d63fd2b9c7",
   "metadata": {},
   "outputs": [
    {
     "name": "stdout",
     "output_type": "stream",
     "text": [
      "[[0. 0. 0. 0. 0. 0. 0. 0. 0.]\n",
      " [0. 0. 0. 0. 0. 0. 0. 0. 0.]\n",
      " [0. 0. 0. 0. 0. 0. 0. 0. 0.]\n",
      " [0. 0. 0. 0. 0. 0. 0. 0. 0.]\n",
      " [0. 0. 0. 0. 0. 0. 0. 0. 0.]\n",
      " [0. 0. 0. 0. 0. 0. 0. 0. 0.]\n",
      " [0. 0. 0. 0. 0. 0. 0. 0. 0.]\n",
      " [0. 0. 0. 0. 0. 0. 0. 0. 0.]\n",
      " [0. 0. 0. 0. 0. 0. 0. 0. 0.]]\n"
     ]
    }
   ],
   "source": [
    "print(n3)"
   ]
  },
  {
   "cell_type": "markdown",
   "id": "ade17f15-5b8c-4404-81ff-5982d6892cfd",
   "metadata": {},
   "source": [
    "# Initialization an array of matrix with full then"
   ]
  },
  {
   "cell_type": "code",
   "execution_count": 29,
   "id": "96da9468-335a-44b5-b57b-c9a2c428a87d",
   "metadata": {},
   "outputs": [],
   "source": [
    "import numpy as np"
   ]
  },
  {
   "cell_type": "code",
   "execution_count": 31,
   "id": "e752ab1c-92e6-4433-b854-c4427bb4c4eb",
   "metadata": {},
   "outputs": [],
   "source": [
    "n4=np.full((3,3),9)"
   ]
  },
  {
   "cell_type": "code",
   "execution_count": 32,
   "id": "24f3342f-6cd7-4d0f-b11d-b28367b5a1ad",
   "metadata": {},
   "outputs": [
    {
     "name": "stdout",
     "output_type": "stream",
     "text": [
      "[[9 9 9]\n",
      " [9 9 9]\n",
      " [9 9 9]]\n"
     ]
    }
   ],
   "source": [
    "print(n4)"
   ]
  },
  {
   "cell_type": "markdown",
   "id": "1b392548-c66e-47a0-a219-d65877731d3d",
   "metadata": {},
   "source": [
    "# Initializationn of NumPy array within a range"
   ]
  },
  {
   "cell_type": "code",
   "execution_count": 34,
   "id": "68b4a232-4037-4854-ab01-ddaf6874dd65",
   "metadata": {},
   "outputs": [],
   "source": [
    "import numpy as np"
   ]
  },
  {
   "cell_type": "code",
   "execution_count": 35,
   "id": "def82b0c-9fce-4e76-823b-ca53cbf83b75",
   "metadata": {},
   "outputs": [],
   "source": [
    "# note: we don't need to import numpy all the time"
   ]
  },
  {
   "cell_type": "code",
   "execution_count": 37,
   "id": "3a825c32-c20b-4705-8a4d-e765beb8490a",
   "metadata": {},
   "outputs": [],
   "source": [
    "n5=np.arange(10,20)"
   ]
  },
  {
   "cell_type": "code",
   "execution_count": 38,
   "id": "50590fcc-e105-447b-94b6-0ec7800dd519",
   "metadata": {},
   "outputs": [
    {
     "name": "stdout",
     "output_type": "stream",
     "text": [
      "[10 11 12 13 14 15 16 17 18 19]\n"
     ]
    }
   ],
   "source": [
    "print(n5)"
   ]
  },
  {
   "cell_type": "markdown",
   "id": "ca3bcc45-5812-4bbb-8131-8568c606b2ef",
   "metadata": {},
   "source": [
    "# initialization of the NumPy array with the skip numbers"
   ]
  },
  {
   "cell_type": "code",
   "execution_count": 41,
   "id": "93b8b6d3-4d66-4164-99c4-f93a7f1de6bb",
   "metadata": {},
   "outputs": [],
   "source": [
    "n6=np.arange(1,10,2)"
   ]
  },
  {
   "cell_type": "code",
   "execution_count": 42,
   "id": "dee6e745-0562-4246-96ce-57a46fae537c",
   "metadata": {},
   "outputs": [
    {
     "name": "stdout",
     "output_type": "stream",
     "text": [
      "[1 3 5 7 9]\n"
     ]
    }
   ],
   "source": [
    "print(n6)"
   ]
  },
  {
   "cell_type": "markdown",
   "id": "43d1198b-f1be-47a8-8af3-85a65b1753fd",
   "metadata": {},
   "source": [
    "# Initialization NumPy array with the random numbers"
   ]
  },
  {
   "cell_type": "code",
   "execution_count": 47,
   "id": "3eec6fed-465b-4542-86b6-3107a89a72aa",
   "metadata": {},
   "outputs": [
    {
     "name": "stdout",
     "output_type": "stream",
     "text": [
      "[640 515 124 877 783 565 830 325 428 533]\n"
     ]
    }
   ],
   "source": [
    "n7=np.random.randint(100,1000,10)\n",
    "print(n7)"
   ]
  },
  {
   "cell_type": "markdown",
   "id": "a9f1be99-0d06-4683-b981-581b6b6e9f01",
   "metadata": {},
   "source": [
    "# Initialization of the array shape changes in a fraction of seconds"
   ]
  },
  {
   "cell_type": "code",
   "execution_count": 56,
   "id": "6391abb8-64e1-462d-aea2-a7b496aaee83",
   "metadata": {},
   "outputs": [],
   "source": [
    "n8=np.array([[10,20,30],[10,80,90],[30,50,70],[40,70,80]])"
   ]
  },
  {
   "cell_type": "code",
   "execution_count": 57,
   "id": "3db0c2eb-c47d-488e-8ae0-51d859416095",
   "metadata": {},
   "outputs": [
    {
     "data": {
      "text/plain": [
       "(4, 3)"
      ]
     },
     "execution_count": 57,
     "metadata": {},
     "output_type": "execute_result"
    }
   ],
   "source": [
    "n8.shape"
   ]
  },
  {
   "cell_type": "code",
   "execution_count": 58,
   "id": "d649c219-0e0b-406b-9473-4d5ee6442f5e",
   "metadata": {},
   "outputs": [
    {
     "name": "stdout",
     "output_type": "stream",
     "text": [
      "[[10 20 30 10]\n",
      " [80 90 30 50]\n",
      " [70 40 70 80]]\n"
     ]
    }
   ],
   "source": [
    "n8.shape=(3,4)\n",
    "print(n8)"
   ]
  },
  {
   "cell_type": "markdown",
   "id": "056198ef-1542-43f2-b7fa-1873883e80f7",
   "metadata": {},
   "source": [
    "#Joining NumPy array"
   ]
  },
  {
   "cell_type": "code",
   "execution_count": 64,
   "id": "e72b5c85-a2b3-4dc4-bcd7-399729381275",
   "metadata": {},
   "outputs": [
    {
     "data": {
      "text/plain": [
       "array([[10, 20, 30, 40, 50, 60, 70, 80, 90, 40],\n",
       "       [70, 80, 70, 90, 60, 30, 10, 20, 40, 70]])"
      ]
     },
     "execution_count": 64,
     "metadata": {},
     "output_type": "execute_result"
    }
   ],
   "source": [
    "a=np.array([10,20,30,40,50,60,70,80,90,40])\n",
    "b=np.array([70,80,70,90,60,30,10,20,40,70])\n",
    "np.vstack((a,b))"
   ]
  },
  {
   "cell_type": "code",
   "execution_count": 65,
   "id": "e15ce5db-32bd-4d17-860d-7ba347dd993b",
   "metadata": {},
   "outputs": [
    {
     "data": {
      "text/plain": [
       "array([10, 20, 30, 40, 50, 60, 70, 80, 90, 40, 70, 80, 70, 90, 60, 30, 10,\n",
       "       20, 40, 70])"
      ]
     },
     "execution_count": 65,
     "metadata": {},
     "output_type": "execute_result"
    }
   ],
   "source": [
    "np.hstack((a,b))"
   ]
  },
  {
   "cell_type": "code",
   "execution_count": 66,
   "id": "f2c08689-9340-4de6-8185-547a0ee1903e",
   "metadata": {},
   "outputs": [
    {
     "data": {
      "text/plain": [
       "array([[10, 70],\n",
       "       [20, 80],\n",
       "       [30, 70],\n",
       "       [40, 90],\n",
       "       [50, 60],\n",
       "       [60, 30],\n",
       "       [70, 10],\n",
       "       [80, 20],\n",
       "       [90, 40],\n",
       "       [40, 70]])"
      ]
     },
     "execution_count": 66,
     "metadata": {},
     "output_type": "execute_result"
    }
   ],
   "source": [
    "np.column_stack((a,b))"
   ]
  },
  {
   "cell_type": "code",
   "execution_count": null,
   "id": "77697fbb-ce4f-434a-b6fe-d87c2fb7c210",
   "metadata": {},
   "outputs": [],
   "source": []
  }
 ],
 "metadata": {
  "kernelspec": {
   "display_name": "Python 3 (ipykernel)",
   "language": "python",
   "name": "python3"
  },
  "language_info": {
   "codemirror_mode": {
    "name": "ipython",
    "version": 3
   },
   "file_extension": ".py",
   "mimetype": "text/x-python",
   "name": "python",
   "nbconvert_exporter": "python",
   "pygments_lexer": "ipython3",
   "version": "3.12.7"
  }
 },
 "nbformat": 4,
 "nbformat_minor": 5
}
