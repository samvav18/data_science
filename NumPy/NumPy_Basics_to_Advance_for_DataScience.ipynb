{
 "cells": [
  {
   "cell_type": "markdown",
   "id": "09ce5ec8-a5e9-4f19-afc0-be169a6d51ce",
   "metadata": {},
   "source": [
    "Single dimension NumPy Array"
   ]
  },
  {
   "cell_type": "code",
   "execution_count": 1,
   "id": "7a01ffc9-85a8-4f86-8639-afc1c3b694f7",
   "metadata": {},
   "outputs": [
    {
     "name": "stdout",
     "output_type": "stream",
     "text": [
      "Requirement already satisfied: numpy in d:\\anaconda\\lib\\site-packages (1.26.4)\n"
     ]
    }
   ],
   "source": [
    "!pip install numpy"
   ]
  },
  {
   "cell_type": "code",
   "execution_count": 1,
   "id": "1133c3c4-55ce-40ea-a4a2-df8fff520953",
   "metadata": {},
   "outputs": [],
   "source": [
    "import numpy as np"
   ]
  },
  {
   "cell_type": "code",
   "execution_count": 6,
   "id": "a9d5a85b-4ef4-44dd-80d7-34f1fff21169",
   "metadata": {},
   "outputs": [
    {
     "data": {
      "text/plain": [
       "array([10, 20, 30, 40])"
      ]
     },
     "execution_count": 6,
     "metadata": {},
     "output_type": "execute_result"
    }
   ],
   "source": [
    "n1=np.array([10,20,30,40])\n",
    "n1"
   ]
  },
  {
   "cell_type": "code",
   "execution_count": 7,
   "id": "4e208de3-358e-49d9-a43b-92e473d3c667",
   "metadata": {},
   "outputs": [
    {
     "data": {
      "text/plain": [
       "numpy.ndarray"
      ]
     },
     "execution_count": 7,
     "metadata": {},
     "output_type": "execute_result"
    }
   ],
   "source": [
    "type(n1)"
   ]
  },
  {
   "cell_type": "markdown",
   "id": "a599c71e-0351-4bd4-84f3-660a7cc68372",
   "metadata": {},
   "source": [
    "# MultiDimension NumPy Array"
   ]
  },
  {
   "cell_type": "code",
   "execution_count": 8,
   "id": "3097e37f-3152-4f57-baa3-0ea53fe7016d",
   "metadata": {},
   "outputs": [],
   "source": [
    "import numpy as np"
   ]
  },
  {
   "cell_type": "code",
   "execution_count": 9,
   "id": "c6141b4e-78c0-4f00-8296-3fbbc9e7f1f0",
   "metadata": {},
   "outputs": [],
   "source": [
    "n2=np.array([[10,20,30],[10,80,90],[30,60,40]])"
   ]
  },
  {
   "cell_type": "code",
   "execution_count": 13,
   "id": "2f932eca-10d7-4c10-972a-3ee83cdbf357",
   "metadata": {},
   "outputs": [
    {
     "name": "stdout",
     "output_type": "stream",
     "text": [
      "[[10 20 30]\n",
      " [10 80 90]\n",
      " [30 60 40]]\n"
     ]
    }
   ],
   "source": [
    "print(n2)"
   ]
  },
  {
   "cell_type": "code",
   "execution_count": 14,
   "id": "60fb47b0-95ec-4193-b6e4-8de3d1741cf8",
   "metadata": {},
   "outputs": [],
   "source": [
    "# Note: we use 2 big brackets [[ for 2 dimensional"
   ]
  },
  {
   "cell_type": "markdown",
   "id": "efbb0f27-e56a-4354-bb1b-157da3747cd7",
   "metadata": {},
   "source": [
    "# initialize NumPy array with Zeroes"
   ]
  },
  {
   "cell_type": "code",
   "execution_count": 15,
   "id": "8ca666fa-cdda-476a-9103-966f573f6187",
   "metadata": {},
   "outputs": [],
   "source": [
    "import numpy as np"
   ]
  },
  {
   "cell_type": "code",
   "execution_count": 27,
   "id": "20da0e3c-4d8d-4749-afec-84af705c73d4",
   "metadata": {},
   "outputs": [],
   "source": [
    "n3=np.zeros((9,9))"
   ]
  },
  {
   "cell_type": "code",
   "execution_count": 28,
   "id": "d0939b3f-4932-4aed-8398-88d63fd2b9c7",
   "metadata": {},
   "outputs": [
    {
     "name": "stdout",
     "output_type": "stream",
     "text": [
      "[[0. 0. 0. 0. 0. 0. 0. 0. 0.]\n",
      " [0. 0. 0. 0. 0. 0. 0. 0. 0.]\n",
      " [0. 0. 0. 0. 0. 0. 0. 0. 0.]\n",
      " [0. 0. 0. 0. 0. 0. 0. 0. 0.]\n",
      " [0. 0. 0. 0. 0. 0. 0. 0. 0.]\n",
      " [0. 0. 0. 0. 0. 0. 0. 0. 0.]\n",
      " [0. 0. 0. 0. 0. 0. 0. 0. 0.]\n",
      " [0. 0. 0. 0. 0. 0. 0. 0. 0.]\n",
      " [0. 0. 0. 0. 0. 0. 0. 0. 0.]]\n"
     ]
    }
   ],
   "source": [
    "print(n3)"
   ]
  },
  {
   "cell_type": "markdown",
   "id": "ade17f15-5b8c-4404-81ff-5982d6892cfd",
   "metadata": {},
   "source": [
    "# Initialization an array of matrix with full then"
   ]
  },
  {
   "cell_type": "code",
   "execution_count": 29,
   "id": "96da9468-335a-44b5-b57b-c9a2c428a87d",
   "metadata": {},
   "outputs": [],
   "source": [
    "import numpy as np"
   ]
  },
  {
   "cell_type": "code",
   "execution_count": 31,
   "id": "e752ab1c-92e6-4433-b854-c4427bb4c4eb",
   "metadata": {},
   "outputs": [],
   "source": [
    "n4=np.full((3,3),9)"
   ]
  },
  {
   "cell_type": "code",
   "execution_count": 32,
   "id": "24f3342f-6cd7-4d0f-b11d-b28367b5a1ad",
   "metadata": {},
   "outputs": [
    {
     "name": "stdout",
     "output_type": "stream",
     "text": [
      "[[9 9 9]\n",
      " [9 9 9]\n",
      " [9 9 9]]\n"
     ]
    }
   ],
   "source": [
    "print(n4)"
   ]
  },
  {
   "cell_type": "markdown",
   "id": "1b392548-c66e-47a0-a219-d65877731d3d",
   "metadata": {},
   "source": [
    "# Initializationn of NumPy array within a range"
   ]
  },
  {
   "cell_type": "code",
   "execution_count": 34,
   "id": "68b4a232-4037-4854-ab01-ddaf6874dd65",
   "metadata": {},
   "outputs": [],
   "source": [
    "import numpy as np"
   ]
  },
  {
   "cell_type": "code",
   "execution_count": 35,
   "id": "def82b0c-9fce-4e76-823b-ca53cbf83b75",
   "metadata": {},
   "outputs": [],
   "source": [
    "# note: we don't need to import numpy all the time"
   ]
  },
  {
   "cell_type": "code",
   "execution_count": 37,
   "id": "3a825c32-c20b-4705-8a4d-e765beb8490a",
   "metadata": {},
   "outputs": [],
   "source": [
    "n5=np.arange(10,20)"
   ]
  },
  {
   "cell_type": "code",
   "execution_count": 38,
   "id": "50590fcc-e105-447b-94b6-0ec7800dd519",
   "metadata": {},
   "outputs": [
    {
     "name": "stdout",
     "output_type": "stream",
     "text": [
      "[10 11 12 13 14 15 16 17 18 19]\n"
     ]
    }
   ],
   "source": [
    "print(n5)"
   ]
  },
  {
   "cell_type": "markdown",
   "id": "ca3bcc45-5812-4bbb-8131-8568c606b2ef",
   "metadata": {},
   "source": [
    "# initialization of the NumPy array with the skip numbers"
   ]
  },
  {
   "cell_type": "code",
   "execution_count": 41,
   "id": "93b8b6d3-4d66-4164-99c4-f93a7f1de6bb",
   "metadata": {},
   "outputs": [],
   "source": [
    "n6=np.arange(1,10,2)"
   ]
  },
  {
   "cell_type": "code",
   "execution_count": 42,
   "id": "dee6e745-0562-4246-96ce-57a46fae537c",
   "metadata": {},
   "outputs": [
    {
     "name": "stdout",
     "output_type": "stream",
     "text": [
      "[1 3 5 7 9]\n"
     ]
    }
   ],
   "source": [
    "print(n6)"
   ]
  },
  {
   "cell_type": "markdown",
   "id": "43d1198b-f1be-47a8-8af3-85a65b1753fd",
   "metadata": {},
   "source": [
    "# Initialization NumPy array with the random numbers"
   ]
  },
  {
   "cell_type": "code",
   "execution_count": 47,
   "id": "3eec6fed-465b-4542-86b6-3107a89a72aa",
   "metadata": {},
   "outputs": [
    {
     "name": "stdout",
     "output_type": "stream",
     "text": [
      "[640 515 124 877 783 565 830 325 428 533]\n"
     ]
    }
   ],
   "source": [
    "n7=np.random.randint(100,1000,10)\n",
    "print(n7)"
   ]
  },
  {
   "cell_type": "markdown",
   "id": "a9f1be99-0d06-4683-b981-581b6b6e9f01",
   "metadata": {},
   "source": [
    "# Initialization of the array shape changes in a fraction of seconds"
   ]
  },
  {
   "cell_type": "code",
   "execution_count": 56,
   "id": "6391abb8-64e1-462d-aea2-a7b496aaee83",
   "metadata": {},
   "outputs": [],
   "source": [
    "n8=np.array([[10,20,30],[10,80,90],[30,50,70],[40,70,80]])"
   ]
  },
  {
   "cell_type": "code",
   "execution_count": 57,
   "id": "3db0c2eb-c47d-488e-8ae0-51d859416095",
   "metadata": {},
   "outputs": [
    {
     "data": {
      "text/plain": [
       "(4, 3)"
      ]
     },
     "execution_count": 57,
     "metadata": {},
     "output_type": "execute_result"
    }
   ],
   "source": [
    "n8.shape"
   ]
  },
  {
   "cell_type": "code",
   "execution_count": 58,
   "id": "d649c219-0e0b-406b-9473-4d5ee6442f5e",
   "metadata": {},
   "outputs": [
    {
     "name": "stdout",
     "output_type": "stream",
     "text": [
      "[[10 20 30 10]\n",
      " [80 90 30 50]\n",
      " [70 40 70 80]]\n"
     ]
    }
   ],
   "source": [
    "n8.shape=(3,4)\n",
    "print(n8)"
   ]
  },
  {
   "cell_type": "markdown",
   "id": "056198ef-1542-43f2-b7fa-1873883e80f7",
   "metadata": {},
   "source": [
    "#Joining NumPy array"
   ]
  },
  {
   "cell_type": "code",
   "execution_count": 64,
   "id": "e72b5c85-a2b3-4dc4-bcd7-399729381275",
   "metadata": {},
   "outputs": [
    {
     "data": {
      "text/plain": [
       "array([[10, 20, 30, 40, 50, 60, 70, 80, 90, 40],\n",
       "       [70, 80, 70, 90, 60, 30, 10, 20, 40, 70]])"
      ]
     },
     "execution_count": 64,
     "metadata": {},
     "output_type": "execute_result"
    }
   ],
   "source": [
    "a=np.array([10,20,30,40,50,60,70,80,90,40])\n",
    "b=np.array([70,80,70,90,60,30,10,20,40,70])\n",
    "np.vstack((a,b))"
   ]
  },
  {
   "cell_type": "code",
   "execution_count": 65,
   "id": "e15ce5db-32bd-4d17-860d-7ba347dd993b",
   "metadata": {},
   "outputs": [
    {
     "data": {
      "text/plain": [
       "array([10, 20, 30, 40, 50, 60, 70, 80, 90, 40, 70, 80, 70, 90, 60, 30, 10,\n",
       "       20, 40, 70])"
      ]
     },
     "execution_count": 65,
     "metadata": {},
     "output_type": "execute_result"
    }
   ],
   "source": [
    "np.hstack((a,b))"
   ]
  },
  {
   "cell_type": "code",
   "execution_count": 66,
   "id": "f2c08689-9340-4de6-8185-547a0ee1903e",
   "metadata": {},
   "outputs": [
    {
     "data": {
      "text/plain": [
       "array([[10, 70],\n",
       "       [20, 80],\n",
       "       [30, 70],\n",
       "       [40, 90],\n",
       "       [50, 60],\n",
       "       [60, 30],\n",
       "       [70, 10],\n",
       "       [80, 20],\n",
       "       [90, 40],\n",
       "       [40, 70]])"
      ]
     },
     "execution_count": 66,
     "metadata": {},
     "output_type": "execute_result"
    }
   ],
   "source": [
    "np.column_stack((a,b))"
   ]
  },
  {
   "cell_type": "markdown",
   "id": "69fbbc5d-45a9-4c81-863e-de0850e0a5e6",
   "metadata": {},
   "source": [
    "# NumPy intersection and difference"
   ]
  },
  {
   "cell_type": "code",
   "execution_count": 2,
   "id": "2a5667e4-8423-4d6a-b03d-687c4d068f49",
   "metadata": {},
   "outputs": [],
   "source": [
    "import numpy as np\n",
    "x=np.array([10,20,30,40,50,60])"
   ]
  },
  {
   "cell_type": "code",
   "execution_count": 4,
   "id": "ee3bd5ee-a509-42bc-bd50-77351b037012",
   "metadata": {},
   "outputs": [],
   "source": [
    "y=np.array([30,50,90,100,120,150])"
   ]
  },
  {
   "cell_type": "code",
   "execution_count": 6,
   "id": "f9ad5624-e223-4a49-b33e-c36ecbbd58d7",
   "metadata": {},
   "outputs": [
    {
     "name": "stdout",
     "output_type": "stream",
     "text": [
      "[30 50]\n"
     ]
    }
   ],
   "source": [
    "print(np.intersect1d(x,y))"
   ]
  },
  {
   "cell_type": "code",
   "execution_count": 9,
   "id": "dd2eaa62-0f7d-4b4a-a31e-49ecfc8748e7",
   "metadata": {},
   "outputs": [
    {
     "name": "stdout",
     "output_type": "stream",
     "text": [
      "[10 20 40 60]\n"
     ]
    }
   ],
   "source": [
    "print(np.setdiff1d(x,y))"
   ]
  },
  {
   "cell_type": "markdown",
   "id": "c8a939d5-506d-488b-a449-4690680ba6cb",
   "metadata": {},
   "source": [
    "# Addition of NumPy arrays"
   ]
  },
  {
   "cell_type": "code",
   "execution_count": 11,
   "id": "53dd95c4-dcc4-4c66-a06d-bf34c2f4c135",
   "metadata": {},
   "outputs": [],
   "source": [
    "t=np.array([10,20])\n",
    "s=np.array([30,40])"
   ]
  },
  {
   "cell_type": "code",
   "execution_count": 13,
   "id": "7cfada35-ed77-4a65-9f8a-2f3d3ee8cba5",
   "metadata": {},
   "outputs": [
    {
     "data": {
      "text/plain": [
       "100"
      ]
     },
     "execution_count": 13,
     "metadata": {},
     "output_type": "execute_result"
    }
   ],
   "source": [
    "np.sum([t,s])"
   ]
  },
  {
   "cell_type": "code",
   "execution_count": 18,
   "id": "232214b0-73af-4ff6-9c69-7282fffbe6d5",
   "metadata": {},
   "outputs": [
    {
     "data": {
      "text/plain": [
       "array([30, 70])"
      ]
     },
     "execution_count": 18,
     "metadata": {},
     "output_type": "execute_result"
    }
   ],
   "source": [
    "np.sum([t,s],axis=1) # when axis is 0, it adds row, and when axis is 1, it adds column."
   ]
  },
  {
   "cell_type": "markdown",
   "id": "1f4babd9-ee6e-4cd3-b110-e8075faeb693",
   "metadata": {},
   "source": [
    "# NumPy array mathematics"
   ]
  },
  {
   "cell_type": "code",
   "execution_count": 19,
   "id": "ce2bea03-40af-4f03-ae27-6562aa536ee2",
   "metadata": {},
   "outputs": [],
   "source": [
    "p=np.array([10,20,30])"
   ]
  },
  {
   "cell_type": "code",
   "execution_count": 20,
   "id": "17c8be8f-6612-4a5f-bf6e-235577d9f047",
   "metadata": {},
   "outputs": [
    {
     "data": {
      "text/plain": [
       "array([11, 21, 31])"
      ]
     },
     "execution_count": 20,
     "metadata": {},
     "output_type": "execute_result"
    }
   ],
   "source": [
    "p+1"
   ]
  },
  {
   "cell_type": "code",
   "execution_count": 21,
   "id": "46f0cf7a-6d26-4ba4-91df-ab482a5b0b12",
   "metadata": {},
   "outputs": [
    {
     "data": {
      "text/plain": [
       "array([ 5., 10., 15.])"
      ]
     },
     "execution_count": 21,
     "metadata": {},
     "output_type": "execute_result"
    }
   ],
   "source": [
    "p/2"
   ]
  },
  {
   "cell_type": "code",
   "execution_count": 22,
   "id": "140a1b22-c414-4d9e-8d08-72b7e1754b19",
   "metadata": {},
   "outputs": [
    {
     "data": {
      "text/plain": [
       "array([20, 40, 60])"
      ]
     },
     "execution_count": 22,
     "metadata": {},
     "output_type": "execute_result"
    }
   ],
   "source": [
    "p*2"
   ]
  },
  {
   "cell_type": "code",
   "execution_count": 23,
   "id": "1401c777-1faf-46b9-b099-c8991f6af079",
   "metadata": {},
   "outputs": [
    {
     "data": {
      "text/plain": [
       "array([ 8, 18, 28])"
      ]
     },
     "execution_count": 23,
     "metadata": {},
     "output_type": "execute_result"
    }
   ],
   "source": [
    "p-2"
   ]
  },
  {
   "cell_type": "markdown",
   "id": "66d9d2ac-3158-43b0-b765-f8b415a13cc8",
   "metadata": {},
   "source": [
    "# NumPy math functions"
   ]
  },
  {
   "cell_type": "code",
   "execution_count": 24,
   "id": "598b54e9-0528-42a7-a96e-9adadc57d1b0",
   "metadata": {},
   "outputs": [],
   "source": [
    "nn=np.array([10,20,30,60])"
   ]
  },
  {
   "cell_type": "code",
   "execution_count": 25,
   "id": "a7fc4aa1-72d1-4bb8-a8cd-5243c3fbd2f9",
   "metadata": {},
   "outputs": [
    {
     "data": {
      "text/plain": [
       "30.0"
      ]
     },
     "execution_count": 25,
     "metadata": {},
     "output_type": "execute_result"
    }
   ],
   "source": [
    "np.mean(nn)"
   ]
  },
  {
   "cell_type": "code",
   "execution_count": 26,
   "id": "c3612912-6ad5-4907-b9d6-5cb994e3e5d4",
   "metadata": {},
   "outputs": [
    {
     "data": {
      "text/plain": [
       "25.0"
      ]
     },
     "execution_count": 26,
     "metadata": {},
     "output_type": "execute_result"
    }
   ],
   "source": [
    "np.median(nn)"
   ]
  },
  {
   "cell_type": "code",
   "execution_count": 27,
   "id": "4995d04b-16f0-45c0-885e-a4cf13cd2a5b",
   "metadata": {},
   "outputs": [
    {
     "data": {
      "text/plain": [
       "18.708286933869708"
      ]
     },
     "execution_count": 27,
     "metadata": {},
     "output_type": "execute_result"
    }
   ],
   "source": [
    "np.std(nn)"
   ]
  },
  {
   "cell_type": "markdown",
   "id": "a0f4dee3-8776-4a2a-a959-5a70f933ddd2",
   "metadata": {},
   "source": [
    "# Saving and loadin NumPy array"
   ]
  },
  {
   "cell_type": "code",
   "execution_count": 28,
   "id": "89bebedf-6115-41fb-9089-43f0dc0e75f9",
   "metadata": {},
   "outputs": [],
   "source": [
    "import numpy as np"
   ]
  },
  {
   "cell_type": "code",
   "execution_count": 29,
   "id": "e297c181-5433-4fd9-812d-da4a70bc2f55",
   "metadata": {},
   "outputs": [],
   "source": [
    "n11=np.array([10,20,30,40,50])"
   ]
  },
  {
   "cell_type": "code",
   "execution_count": 30,
   "id": "f2669f3e-513f-41c9-a236-eac31ff160db",
   "metadata": {},
   "outputs": [],
   "source": [
    "np.save('my_name',n11)"
   ]
  },
  {
   "cell_type": "code",
   "execution_count": 31,
   "id": "24d4443b-1970-451b-a2bc-4429d001fa66",
   "metadata": {},
   "outputs": [
    {
     "data": {
      "text/plain": [
       "array([10, 20, 30, 40, 50])"
      ]
     },
     "execution_count": 31,
     "metadata": {},
     "output_type": "execute_result"
    }
   ],
   "source": [
    "np.load('my_name.npy')"
   ]
  },
  {
   "cell_type": "markdown",
   "id": "18d0402c-dfcb-4945-ba3b-5b74c7734655",
   "metadata": {},
   "source": [
    "# Array creation methods"
   ]
  },
  {
   "cell_type": "markdown",
   "id": "eb48cb04-6782-4b12-87b8-0cb1f5f635fd",
   "metadata": {},
   "source": [
    "1. Uniform samples"
   ]
  },
  {
   "cell_type": "code",
   "execution_count": 32,
   "id": "cbd8b1d3-0fda-4bc1-8d76-ad494a675683",
   "metadata": {},
   "outputs": [
    {
     "data": {
      "text/plain": [
       "array([8.7542047 , 9.62032877, 8.89252459, 6.98266266])"
      ]
     },
     "execution_count": 32,
     "metadata": {},
     "output_type": "execute_result"
    }
   ],
   "source": [
    "np.random.uniform(5,10,size = 4)"
   ]
  },
  {
   "cell_type": "code",
   "execution_count": 33,
   "id": "e87d95f6-a17b-41c7-beb1-705574dac986",
   "metadata": {},
   "outputs": [
    {
     "data": {
      "text/plain": [
       "array([0.10285529, 0.35269198, 0.1454928 , 0.01469434, 0.27951891])"
      ]
     },
     "execution_count": 33,
     "metadata": {},
     "output_type": "execute_result"
    }
   ],
   "source": [
    "np.random.uniform(size = 5)"
   ]
  },
  {
   "cell_type": "markdown",
   "id": "c4afe547-e8ec-490c-b808-1ef0efcc331b",
   "metadata": {},
   "source": [
    "Random"
   ]
  },
  {
   "cell_type": "code",
   "execution_count": 35,
   "id": "ce7d5089-60da-4b86-987e-8b076d1686ba",
   "metadata": {},
   "outputs": [
    {
     "data": {
      "text/plain": [
       "array([6, 9, 8, 5, 6, 7, 7, 8, 6, 5])"
      ]
     },
     "execution_count": 35,
     "metadata": {},
     "output_type": "execute_result"
    }
   ],
   "source": [
    "np.random.randint(5,10,10) # (low value, high value, number of size)"
   ]
  },
  {
   "cell_type": "code",
   "execution_count": 37,
   "id": "516f5781-cd4b-4d4f-aa8a-b57fdce17e95",
   "metadata": {},
   "outputs": [
    {
     "data": {
      "text/plain": [
       "array([0.23126773, 0.01610093, 0.2293318 ])"
      ]
     },
     "execution_count": 37,
     "metadata": {},
     "output_type": "execute_result"
    }
   ],
   "source": [
    "np.random.random(3)"
   ]
  },
  {
   "cell_type": "markdown",
   "id": "31e63eac-6883-4127-9668-bfbef8274b49",
   "metadata": {},
   "source": [
    "2. Logspace"
   ]
  },
  {
   "cell_type": "code",
   "execution_count": 39,
   "id": "8065f1ff-0b21-43a3-966b-83a2fe0992c5",
   "metadata": {},
   "outputs": [
    {
     "data": {
      "text/plain": [
       "array([1.00000000e+00, 5.65685425e+00, 3.20000000e+01, 1.81019336e+02,\n",
       "       1.02400000e+03])"
      ]
     },
     "execution_count": 39,
     "metadata": {},
     "output_type": "execute_result"
    }
   ],
   "source": [
    "np.logspace(0,10,5,base=2)  # 0 is start, 10 is end, 5 is the number of values to be produced"
   ]
  },
  {
   "cell_type": "markdown",
   "id": "afde63ae-741b-46ed-b6b2-6bb39de11d76",
   "metadata": {},
   "source": [
    "3. Identity"
   ]
  },
  {
   "cell_type": "code",
   "execution_count": 42,
   "id": "6bec095b-3bc6-4309-9f32-70fab9069d7f",
   "metadata": {},
   "outputs": [
    {
     "data": {
      "text/plain": [
       "array([[1., 0., 0., 0.],\n",
       "       [0., 1., 0., 0.],\n",
       "       [0., 0., 1., 0.],\n",
       "       [0., 0., 0., 1.]])"
      ]
     },
     "execution_count": 42,
     "metadata": {},
     "output_type": "execute_result"
    }
   ],
   "source": [
    "np.identity(4)"
   ]
  },
  {
   "cell_type": "markdown",
   "id": "f762957e-92cd-49bb-8a08-d48cc7d6e335",
   "metadata": {},
   "source": [
    "# Array operations"
   ]
  },
  {
   "cell_type": "markdown",
   "id": "bbb10390-a61f-4a97-b557-78ce26d73e5c",
   "metadata": {},
   "source": [
    "1. Min"
   ]
  },
  {
   "cell_type": "code",
   "execution_count": 43,
   "id": "8f7b025e-9411-4ef4-a82b-12ac08f11a25",
   "metadata": {},
   "outputs": [],
   "source": [
    "arr=np.array([1,1,2,3,4,5,1,6])"
   ]
  },
  {
   "cell_type": "code",
   "execution_count": 44,
   "id": "6af868c0-e345-4070-8773-3414518d6aea",
   "metadata": {},
   "outputs": [
    {
     "data": {
      "text/plain": [
       "1"
      ]
     },
     "execution_count": 44,
     "metadata": {},
     "output_type": "execute_result"
    }
   ],
   "source": [
    "np.min(arr)"
   ]
  },
  {
   "cell_type": "code",
   "execution_count": 45,
   "id": "51caef5e-93b1-453f-90c7-5a2144e1511f",
   "metadata": {},
   "outputs": [
    {
     "data": {
      "text/plain": [
       "6"
      ]
     },
     "execution_count": 45,
     "metadata": {},
     "output_type": "execute_result"
    }
   ],
   "source": [
    "np.max(arr)"
   ]
  },
  {
   "cell_type": "code",
   "execution_count": 48,
   "id": "77cb2eaf-bf38-4140-b1b3-fa4696dd3fb8",
   "metadata": {},
   "outputs": [
    {
     "data": {
      "text/plain": [
       "(array([1, 2, 3, 4, 5, 6]), array([3, 1, 1, 1, 1, 1], dtype=int64))"
      ]
     },
     "execution_count": 48,
     "metadata": {},
     "output_type": "execute_result"
    }
   ],
   "source": [
    "np.unique(arr, return_counts=True) # it gives the values and how many it is repeated or number of their repeatation"
   ]
  },
  {
   "cell_type": "markdown",
   "id": "199b02f4-62f1-4e34-aaf0-236546a92b02",
   "metadata": {},
   "source": [
    "2. Digitize"
   ]
  },
  {
   "cell_type": "code",
   "execution_count": 51,
   "id": "e42e85e8-0d38-41ed-9e57-0f691accf663",
   "metadata": {},
   "outputs": [],
   "source": [
    "a=np.array([-0.9,0.5,0.9,1.4,3.6,4.7,5.3]) \n",
    "bins=np.array([0,1,2,3])"
   ]
  },
  {
   "cell_type": "code",
   "execution_count": 52,
   "id": "c9368ff9-08ae-47fb-ba01-8ab5a99687af",
   "metadata": {},
   "outputs": [
    {
     "data": {
      "text/plain": [
       "array([0, 1, 1, 2, 4, 4, 4], dtype=int64)"
      ]
     },
     "execution_count": 52,
     "metadata": {},
     "output_type": "execute_result"
    }
   ],
   "source": [
    "np.digitize(a,bins)"
   ]
  },
  {
   "cell_type": "markdown",
   "id": "77e185e1-badf-485e-910b-a256731c3b33",
   "metadata": {},
   "source": [
    "3. Expanding the dimensions"
   ]
  },
  {
   "cell_type": "code",
   "execution_count": 53,
   "id": "38c88a90-79b7-42f6-9dfa-d2a5aaf28e58",
   "metadata": {},
   "outputs": [],
   "source": [
    "arr=np.array([8,14,1,8,4,7,5,3,8,9,7])"
   ]
  },
  {
   "cell_type": "code",
   "execution_count": 54,
   "id": "9ae0af3b-58af-4f8e-ab96-2c3ce403302d",
   "metadata": {},
   "outputs": [
    {
     "data": {
      "text/plain": [
       "array([[ 8, 14,  1,  8,  4,  7,  5,  3,  8,  9,  7]])"
      ]
     },
     "execution_count": 54,
     "metadata": {},
     "output_type": "execute_result"
    }
   ],
   "source": [
    "np.expand_dims(arr,axis=0)"
   ]
  },
  {
   "cell_type": "code",
   "execution_count": 55,
   "id": "8f104de9-122c-484e-ae47-26173d47289b",
   "metadata": {},
   "outputs": [
    {
     "data": {
      "text/plain": [
       "array([[ 8],\n",
       "       [14],\n",
       "       [ 1],\n",
       "       [ 8],\n",
       "       [ 4],\n",
       "       [ 7],\n",
       "       [ 5],\n",
       "       [ 3],\n",
       "       [ 8],\n",
       "       [ 9],\n",
       "       [ 7]])"
      ]
     },
     "execution_count": 55,
     "metadata": {},
     "output_type": "execute_result"
    }
   ],
   "source": [
    "np.expand_dims(arr,axis=1)"
   ]
  },
  {
   "cell_type": "markdown",
   "id": "fcecf184-f214-47e3-b820-2f5b1ad006ea",
   "metadata": {},
   "source": [
    "4. Squeeze"
   ]
  },
  {
   "cell_type": "code",
   "execution_count": 56,
   "id": "2581c895-463f-44d0-ad9e-0cc6aaf067fc",
   "metadata": {},
   "outputs": [],
   "source": [
    "arr=np.array([[8],[14],[25],[5],[6],[7],[3]])"
   ]
  },
  {
   "cell_type": "code",
   "execution_count": 57,
   "id": "284bbfa6-9836-4c67-a3fa-692325cff5e6",
   "metadata": {},
   "outputs": [
    {
     "data": {
      "text/plain": [
       "array([ 8, 14, 25,  5,  6,  7,  3])"
      ]
     },
     "execution_count": 57,
     "metadata": {},
     "output_type": "execute_result"
    }
   ],
   "source": [
    "np.squeeze(arr)"
   ]
  },
  {
   "cell_type": "markdown",
   "id": "e180856a-ddec-4e06-a92b-b184cd00ebec",
   "metadata": {},
   "source": [
    "5. Count non-zero"
   ]
  },
  {
   "cell_type": "code",
   "execution_count": 58,
   "id": "d6e13b2b-5cc9-4e6d-8f9a-a5672ec5c6dd",
   "metadata": {},
   "outputs": [],
   "source": [
    "a=np.array([0,0,1,1,1,0])"
   ]
  },
  {
   "cell_type": "code",
   "execution_count": 59,
   "id": "a83a30d4-3258-4908-bf61-f8575eee1f40",
   "metadata": {},
   "outputs": [
    {
     "data": {
      "text/plain": [
       "3"
      ]
     },
     "execution_count": 59,
     "metadata": {},
     "output_type": "execute_result"
    }
   ],
   "source": [
    "np.count_nonzero(a)"
   ]
  },
  {
   "cell_type": "markdown",
   "id": "145fa089-1e00-41d8-b27a-9ca91fbec485",
   "metadata": {},
   "source": [
    "6. argwhere"
   ]
  },
  {
   "cell_type": "code",
   "execution_count": 62,
   "id": "5a34da1b-d213-41c4-8b70-40e9d8dd1b52",
   "metadata": {},
   "outputs": [],
   "source": [
    "a=np.array([0,0,1,1,1,0]) # it gives the indeces of non-zerp value"
   ]
  },
  {
   "cell_type": "code",
   "execution_count": 63,
   "id": "171bd328-ecdf-4622-ab75-b83dba1bb7a6",
   "metadata": {},
   "outputs": [
    {
     "data": {
      "text/plain": [
       "array([[2],\n",
       "       [3],\n",
       "       [4]], dtype=int64)"
      ]
     },
     "execution_count": 63,
     "metadata": {},
     "output_type": "execute_result"
    }
   ],
   "source": [
    "np.argwhere(a)"
   ]
  },
  {
   "cell_type": "markdown",
   "id": "ccd36ffa-d77b-4ae9-b581-f7f5aa300d73",
   "metadata": {},
   "source": [
    "7. argmax and argmin"
   ]
  },
  {
   "cell_type": "code",
   "execution_count": 64,
   "id": "b9150086-eae4-48f9-a686-1677faa0b20f",
   "metadata": {},
   "outputs": [],
   "source": [
    "arr=np.array([[0.12,0.64,0.19,0.05]])"
   ]
  },
  {
   "cell_type": "code",
   "execution_count": 66,
   "id": "78b7fd6a-50a1-4289-925e-89e88f8c258b",
   "metadata": {},
   "outputs": [
    {
     "data": {
      "text/plain": [
       "1"
      ]
     },
     "execution_count": 66,
     "metadata": {},
     "output_type": "execute_result"
    }
   ],
   "source": [
    "np.argmax(arr) #it gives the index value of the maximum value"
   ]
  },
  {
   "cell_type": "code",
   "execution_count": 68,
   "id": "a3b9f730-cbd7-4830-a954-f6dbcca0a784",
   "metadata": {},
   "outputs": [
    {
     "data": {
      "text/plain": [
       "3"
      ]
     },
     "execution_count": 68,
     "metadata": {},
     "output_type": "execute_result"
    }
   ],
   "source": [
    "np.argmin(arr) # it gives of minimum value"
   ]
  },
  {
   "cell_type": "markdown",
   "id": "c93b9fd0-6b7f-4272-8b42-139fba8cf8ce",
   "metadata": {},
   "source": [
    "8. sorting"
   ]
  },
  {
   "cell_type": "code",
   "execution_count": 70,
   "id": "df29f09d-8a74-42be-a061-fe59ae4577cc",
   "metadata": {},
   "outputs": [],
   "source": [
    "arr=np.array([2,3,1,7,4,5])"
   ]
  },
  {
   "cell_type": "code",
   "execution_count": 71,
   "id": "bbee7a12-d50b-4859-a32e-5a6ec1fd6e6a",
   "metadata": {},
   "outputs": [
    {
     "data": {
      "text/plain": [
       "array([1, 2, 3, 4, 5, 7])"
      ]
     },
     "execution_count": 71,
     "metadata": {},
     "output_type": "execute_result"
    }
   ],
   "source": [
    "np.sort(arr)"
   ]
  },
  {
   "cell_type": "markdown",
   "id": "395f861e-cc10-44a0-a612-7ff31197de0d",
   "metadata": {},
   "source": [
    "9. Abs (absolute)"
   ]
  },
  {
   "cell_type": "code",
   "execution_count": 72,
   "id": "7dfb1689-2dd1-40ef-952b-db7487d98428",
   "metadata": {},
   "outputs": [],
   "source": [
    "A=np.array([[1,-3,4],[-2,-4,3]])"
   ]
  },
  {
   "cell_type": "code",
   "execution_count": 73,
   "id": "12247bf1-ea2f-4f9c-95f2-feec217568e9",
   "metadata": {},
   "outputs": [
    {
     "data": {
      "text/plain": [
       "array([[1, 3, 4],\n",
       "       [2, 4, 3]])"
      ]
     },
     "execution_count": 73,
     "metadata": {},
     "output_type": "execute_result"
    }
   ],
   "source": [
    "np.abs(A)"
   ]
  },
  {
   "cell_type": "markdown",
   "id": "48e687ff-22a2-4174-a940-90f4c49f6418",
   "metadata": {},
   "source": [
    "10. ROund"
   ]
  },
  {
   "cell_type": "code",
   "execution_count": 74,
   "id": "40864568-af85-4992-9a00-921a93aa5262",
   "metadata": {},
   "outputs": [],
   "source": [
    "a=np.random.random(size=(3,4))"
   ]
  },
  {
   "cell_type": "code",
   "execution_count": 75,
   "id": "6079a449-7a82-4e6c-9b34-b7a5f8039beb",
   "metadata": {},
   "outputs": [
    {
     "data": {
      "text/plain": [
       "array([[0.74045186, 0.32615276, 0.76742114, 0.92702066],\n",
       "       [0.9320407 , 0.25928726, 0.40351395, 0.36465563],\n",
       "       [0.02385262, 0.75296118, 0.44351546, 0.56328681]])"
      ]
     },
     "execution_count": 75,
     "metadata": {},
     "output_type": "execute_result"
    }
   ],
   "source": [
    "a"
   ]
  },
  {
   "cell_type": "code",
   "execution_count": 76,
   "id": "db050483-61e7-4e9c-8f63-8e1c3218dc57",
   "metadata": {},
   "outputs": [
    {
     "data": {
      "text/plain": [
       "array([[0.74, 0.33, 0.77, 0.93],\n",
       "       [0.93, 0.26, 0.4 , 0.36],\n",
       "       [0.02, 0.75, 0.44, 0.56]])"
      ]
     },
     "execution_count": 76,
     "metadata": {},
     "output_type": "execute_result"
    }
   ],
   "source": [
    "np.round(a,decimals=2)"
   ]
  },
  {
   "cell_type": "markdown",
   "id": "54ead889-6d2c-4d38-ab72-c33aae024cd7",
   "metadata": {},
   "source": [
    "11. Clip"
   ]
  },
  {
   "cell_type": "code",
   "execution_count": 1,
   "id": "f61e40a0-ab47-4cfc-b2d9-54c11551f1ff",
   "metadata": {},
   "outputs": [],
   "source": [
    "import numpy as np"
   ]
  },
  {
   "cell_type": "code",
   "execution_count": 2,
   "id": "29070cc9-2384-4eb5-a1ac-4e48dc91a3d8",
   "metadata": {},
   "outputs": [],
   "source": [
    "arr=np.array([0,1,-3,-4,5,6,7,2,3])"
   ]
  },
  {
   "cell_type": "code",
   "execution_count": 3,
   "id": "03dbf9cf-f588-4451-be6f-1a2b923356b3",
   "metadata": {},
   "outputs": [
    {
     "data": {
      "text/plain": [
       "array([0, 1, 0, 0, 5, 5, 5, 2, 3])"
      ]
     },
     "execution_count": 3,
     "metadata": {},
     "output_type": "execute_result"
    }
   ],
   "source": [
    "arr.clip(0,5)"
   ]
  },
  {
   "cell_type": "code",
   "execution_count": 4,
   "id": "978387a7-2a53-4edf-a736-2f44db7fe4e0",
   "metadata": {},
   "outputs": [
    {
     "data": {
      "text/plain": [
       "array([0, 1, 0, 0, 3, 3, 3, 2, 3])"
      ]
     },
     "execution_count": 4,
     "metadata": {},
     "output_type": "execute_result"
    }
   ],
   "source": [
    "arr.clip(0,3)"
   ]
  },
  {
   "cell_type": "markdown",
   "id": "a72e3283-21d6-4281-943d-2335e9572046",
   "metadata": {},
   "source": [
    "12. Where"
   ]
  },
  {
   "cell_type": "code",
   "execution_count": 8,
   "id": "989a41d9-52c4-4624-8a72-a1e79e32eeab",
   "metadata": {},
   "outputs": [
    {
     "data": {
      "text/plain": [
       "array([[ 0,  1,  2],\n",
       "       [ 3,  4,  5],\n",
       "       [ 6,  7,  8],\n",
       "       [ 9, 10, 11]])"
      ]
     },
     "execution_count": 8,
     "metadata": {},
     "output_type": "execute_result"
    }
   ],
   "source": [
    "a=np.arange(12).reshape(4,3)  #np.where(condition,[x,y])\n",
    "a"
   ]
  },
  {
   "cell_type": "code",
   "execution_count": 9,
   "id": "0096e715-6e77-448d-bc73-de283b36e0ca",
   "metadata": {},
   "outputs": [
    {
     "data": {
      "text/plain": [
       "(array([2, 2, 2, 3, 3, 3], dtype=int64),\n",
       " array([0, 1, 2, 0, 1, 2], dtype=int64))"
      ]
     },
     "execution_count": 9,
     "metadata": {},
     "output_type": "execute_result"
    }
   ],
   "source": [
    "np.where(a>5)"
   ]
  },
  {
   "cell_type": "markdown",
   "id": "e9646160-2980-4b13-bd48-b6493fdc0409",
   "metadata": {},
   "source": [
    "13.Put"
   ]
  },
  {
   "cell_type": "code",
   "execution_count": 10,
   "id": "8b4adc74-d796-4c89-bcfc-0bb10d6e35b9",
   "metadata": {},
   "outputs": [],
   "source": [
    "#np.put(a,ind,v)"
   ]
  },
  {
   "cell_type": "raw",
   "id": "cbe04fc9-d012-46b2-8df8-673c3b002eac",
   "metadata": {
    "vscode": {
     "languageId": "raw"
    }
   },
   "source": [
    "arr=np.array([1,2,3,4,5,6])\n",
    "arr"
   ]
  },
  {
   "cell_type": "code",
   "execution_count": null,
   "id": "db59a07d-eb9a-448d-be9b-c85679d9ab62",
   "metadata": {},
   "outputs": [],
   "source": [
    "np.put(arr,[1,2],[6,7])"
   ]
  },
  {
   "cell_type": "code",
   "execution_count": 13,
   "id": "b882c39c-00dd-4296-a993-e43ed20e850c",
   "metadata": {},
   "outputs": [
    {
     "data": {
      "text/plain": [
       "array([ 0,  6,  7, -4,  5,  6,  7,  2,  3])"
      ]
     },
     "execution_count": 13,
     "metadata": {},
     "output_type": "execute_result"
    }
   ],
   "source": [
    "arr"
   ]
  },
  {
   "cell_type": "markdown",
   "id": "4d3fc262",
   "metadata": {},
   "source": [
    "14. Copyto"
   ]
  },
  {
   "cell_type": "code",
   "execution_count": 4,
   "id": "059c83bd",
   "metadata": {},
   "outputs": [
    {
     "name": "stdout",
     "output_type": "stream",
     "text": [
      "Before arr1 [1 2 3]\n",
      "Before arr2 [4 5 6]\n",
      "After arr1 [4 5 6]\n",
      "After arr2 [4 5 6]\n"
     ]
    }
   ],
   "source": [
    "import numpy as np\n",
    "arr1=np.array([1,2,3])\n",
    "arr2=np.array([4,5,6])\n",
    "print(\"Before arr1\",arr1)\n",
    "print(\"Before arr2\",arr2)\n",
    "np.copyto(arr1,arr2)\n",
    "print(\"After arr1\",arr1)\n",
    "print(\"After arr2\",arr2)"
   ]
  },
  {
   "cell_type": "markdown",
   "id": "7acbc253",
   "metadata": {},
   "source": [
    "# Splitting"
   ]
  },
  {
   "cell_type": "markdown",
   "id": "eda4e934",
   "metadata": {},
   "source": [
    "1. Horizontal split"
   ]
  },
  {
   "cell_type": "code",
   "execution_count": 10,
   "id": "00fb75c0",
   "metadata": {},
   "outputs": [
    {
     "data": {
      "text/plain": [
       "[array([[3, 4],\n",
       "        [6, 7]]),\n",
       " array([[5, 2],\n",
       "        [2, 6]])]"
      ]
     },
     "execution_count": 10,
     "metadata": {},
     "output_type": "execute_result"
    }
   ],
   "source": [
    "A=np.array([[3,4,5,2],[6,7,2,6,]]) #splits the data into 2 equal parts\n",
    "np.hsplit(A,2)"
   ]
  },
  {
   "cell_type": "code",
   "execution_count": 11,
   "id": "d774a527",
   "metadata": {},
   "outputs": [
    {
     "data": {
      "text/plain": [
       "[array([[3],\n",
       "        [6]]),\n",
       " array([[4],\n",
       "        [7]]),\n",
       " array([[5],\n",
       "        [2]]),\n",
       " array([[2],\n",
       "        [6]])]"
      ]
     },
     "execution_count": 11,
     "metadata": {},
     "output_type": "execute_result"
    }
   ],
   "source": [
    "np.hsplit(A,4)"
   ]
  },
  {
   "cell_type": "markdown",
   "id": "13ac49b6",
   "metadata": {},
   "source": []
  },
  {
   "cell_type": "markdown",
   "id": "b21b08ec",
   "metadata": {},
   "source": [
    "2.Vertical split"
   ]
  },
  {
   "cell_type": "code",
   "execution_count": 14,
   "id": "d1cae74f",
   "metadata": {},
   "outputs": [
    {
     "data": {
      "text/plain": [
       "[array([[3, 4, 5, 2]]), array([[6, 7, 2, 6]])]"
      ]
     },
     "execution_count": 14,
     "metadata": {},
     "output_type": "execute_result"
    }
   ],
   "source": [
    "A=np.array([[3,4,5,2],[6,7,2,6]])\n",
    "np.vsplit(A,2)"
   ]
  },
  {
   "cell_type": "markdown",
   "id": "18aac6bd",
   "metadata": {},
   "source": [
    "# Repeat"
   ]
  },
  {
   "cell_type": "code",
   "execution_count": 15,
   "id": "e8774508",
   "metadata": {},
   "outputs": [
    {
     "data": {
      "text/plain": [
       "array(['2017', '2017', '2017'], dtype='<U4')"
      ]
     },
     "execution_count": 15,
     "metadata": {},
     "output_type": "execute_result"
    }
   ],
   "source": [
    "np.repeat('2017',3)"
   ]
  },
  {
   "cell_type": "markdown",
   "id": "cb502ba5",
   "metadata": {},
   "source": [
    "# Einsum"
   ]
  },
  {
   "cell_type": "code",
   "execution_count": 17,
   "id": "01df9524",
   "metadata": {},
   "outputs": [],
   "source": [
    "a=np.arange(1,10).reshape(3,3)\n",
    "b=np.arange(21,30).reshape(3,3)"
   ]
  },
  {
   "cell_type": "code",
   "execution_count": 19,
   "id": "39e680b1",
   "metadata": {},
   "outputs": [
    {
     "data": {
      "text/plain": [
       "array([1, 5, 9])"
      ]
     },
     "execution_count": 19,
     "metadata": {},
     "output_type": "execute_result"
    }
   ],
   "source": [
    "np.einsum('ii->i',a) # extracts diagonal"
   ]
  },
  {
   "cell_type": "code",
   "execution_count": 21,
   "id": "bdd33781",
   "metadata": {},
   "outputs": [
    {
     "name": "stdout",
     "output_type": "stream",
     "text": [
      "Original 2D array:\n",
      " [[1 2 3]\n",
      " [4 5 6]]\n",
      "Reshaped 1D array:\n",
      " [1 2 3 4 5 6]\n"
     ]
    }
   ],
   "source": [
    "arr_2d=np.array([[1,2,3],[4,5,6]])\n",
    "arr_1d=arr_2d.reshape(-1) #or\n",
    "#arr_1d=arr_2d.ravel # ravel is equivalent to ii->i\n",
    "print(\"Original 2D array:\\n\",arr_2d)\n",
    "print(\"Reshaped 1D array:\\n\",arr_1d)"
   ]
  },
  {
   "cell_type": "code",
   "execution_count": 22,
   "id": "a49e497c",
   "metadata": {},
   "outputs": [],
   "source": [
    "arr=np.array([[2,5,3],[5,6,3],[8,5,7]])"
   ]
  },
  {
   "cell_type": "code",
   "execution_count": 24,
   "id": "121271db",
   "metadata": {},
   "outputs": [
    {
     "data": {
      "text/plain": [
       "array([[2, 5, 8],\n",
       "       [5, 6, 5],\n",
       "       [3, 3, 7]])"
      ]
     },
     "execution_count": 24,
     "metadata": {},
     "output_type": "execute_result"
    }
   ],
   "source": [
    "np.einsum('ji',arr)"
   ]
  },
  {
   "cell_type": "code",
   "execution_count": 25,
   "id": "56690b81",
   "metadata": {},
   "outputs": [],
   "source": [
    "a=np.array([[4,7,2],[8,3,9],[7,1,4]])\n",
    "b=np.array([[2,6,4],[9,5,1],[8,1,7]])"
   ]
  },
  {
   "cell_type": "code",
   "execution_count": 27,
   "id": "316cf4aa",
   "metadata": {},
   "outputs": [
    {
     "data": {
      "text/plain": [
       "array([[ 87,  61,  37],\n",
       "       [115,  72,  98],\n",
       "       [ 55,  51,  57]])"
      ]
     },
     "execution_count": 27,
     "metadata": {},
     "output_type": "execute_result"
    }
   ],
   "source": [
    "np.einsum('ij,jk',a,b) #matrix multiplication"
   ]
  },
  {
   "cell_type": "code",
   "execution_count": 29,
   "id": "dff59802",
   "metadata": {},
   "outputs": [
    {
     "name": "stdout",
     "output_type": "stream",
     "text": [
      "11\n"
     ]
    }
   ],
   "source": [
    "print(np.einsum('ii',a)) # sum of diagonal"
   ]
  },
  {
   "cell_type": "markdown",
   "id": "a80c9269",
   "metadata": {},
   "source": [
    "# Histogram"
   ]
  },
  {
   "cell_type": "code",
   "execution_count": 32,
   "id": "5c31744d",
   "metadata": {},
   "outputs": [
    {
     "data": {
      "text/plain": [
       "(array([2, 0, 1, 0, 1, 0, 1, 0, 2, 1]),\n",
       " array([2. , 2.5, 3. , 3.5, 4. , 4.5, 5. , 5.5, 6. , 6.5, 7. ]))"
      ]
     },
     "execution_count": 32,
     "metadata": {},
     "output_type": "execute_result"
    }
   ],
   "source": [
    "A=np.array([[3,4,5,2],[6,7,2,6]]) #computes histogram values for a set of data\n",
    "np.histogram(A)"
   ]
  },
  {
   "cell_type": "code",
   "execution_count": null,
   "id": "8c1f6a9b",
   "metadata": {},
   "outputs": [],
   "source": []
  }
 ],
 "metadata": {
  "kernelspec": {
   "display_name": "Python 3",
   "language": "python",
   "name": "python3"
  },
  "language_info": {
   "codemirror_mode": {
    "name": "ipython",
    "version": 3
   },
   "file_extension": ".py",
   "mimetype": "text/x-python",
   "name": "python",
   "nbconvert_exporter": "python",
   "pygments_lexer": "ipython3",
   "version": "3.12.1"
  }
 },
 "nbformat": 4,
 "nbformat_minor": 5
}
